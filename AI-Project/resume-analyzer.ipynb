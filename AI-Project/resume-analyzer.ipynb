{
 "cells": [
  {
   "cell_type": "code",
   "execution_count": 6,
   "id": "a857bc3f",
   "metadata": {},
   "outputs": [
    {
     "name": "stdout",
     "output_type": "stream",
     "text": [
      "Resume-Analyzer-project\n"
     ]
    }
   ],
   "source": [
    "print(\"Resume-Analyzer-project\")"
   ]
  },
  {
   "cell_type": "code",
   "execution_count": 7,
   "id": "f47f7fe6",
   "metadata": {},
   "outputs": [
    {
     "name": "stdout",
     "output_type": "stream",
     "text": [
      "\n",
      "Top Matching Resumes:\n",
      "Resume 1 - Score: 0.32\n",
      "Content: Experienced software engineer with Python and machine learning skills.\n",
      "\n",
      "Resume 4 - Score: 0.28\n",
      "Content: AI/ML engineer with experience in NLP, TensorFlow, and computer vision.\n",
      "\n",
      "Resume 2 - Score: 0.16\n",
      "Content: Data scientist with expertise in Python, data visualization, and deep learning.\n",
      "\n",
      "Resume 3 - Score: 0.14\n",
      "Content: Frontend developer skilled in React, JavaScript, and UI/UX design.\n",
      "\n"
     ]
    }
   ],
   "source": [
    "# Smart Resume Analyzer - NLP Based Matching\n",
    "\n",
    "import os\n",
    "import pandas as pd\n",
    "from sklearn.feature_extraction.text import TfidfVectorizer\n",
    "from sklearn.metrics.pairwise import cosine_similarity\n",
    "\n",
    "# Sample data - You can load from CSV or database\n",
    "resumes = [\n",
    "    \"Experienced software engineer with Python and machine learning skills.\",\n",
    "    \"Data scientist with expertise in Python, data visualization, and deep learning.\",\n",
    "    \"Frontend developer skilled in React, JavaScript, and UI/UX design.\",\n",
    "    \"AI/ML engineer with experience in NLP, TensorFlow, and computer vision.\"\n",
    "]\n",
    "\n",
    "job_description = \"We are looking for a machine learning engineer skilled in Python, NLP, and TensorFlow.\"\n",
    "\n",
    "# Step 1: Create TF-IDF vectorizer\n",
    "vectorizer = TfidfVectorizer()\n",
    "\n",
    "# Combine resumes and job description for vectorization\n",
    "documents = resumes + [job_description]\n",
    "tfidf_matrix = vectorizer.fit_transform(documents)\n",
    "\n",
    "# Step 2: Compute similarity\n",
    "job_vector = tfidf_matrix[-1]  # Last one is the job description\n",
    "resume_vectors = tfidf_matrix[:-1]\n",
    "\n",
    "similarity_scores = cosine_similarity(job_vector, resume_vectors)\n",
    "\n",
    "# Step 3: Rank and display results\n",
    "scores = list(enumerate(similarity_scores[0]))\n",
    "sorted_scores = sorted(scores, key=lambda x: x[1], reverse=True)\n",
    "\n",
    "print(\"\\nTop Matching Resumes:\")\n",
    "for idx, score in sorted_scores:\n",
    "    print(f\"Resume {idx + 1} - Score: {score:.2f}\")\n",
    "    print(f\"Content: {resumes[idx]}\\n\")\n"
   ]
  },
  {
   "cell_type": "code",
   "execution_count": 10,
   "id": "ef285106",
   "metadata": {},
   "outputs": [
    {
     "name": "stdout",
     "output_type": "stream",
     "text": [
      "\n",
      "Top Matching Resumes:\n",
      "\n",
      "resume1.pdf - Score: 0.14\n",
      "my_resume1.pdf - Score: 0.13\n"
     ]
    }
   ],
   "source": [
    "import os\n",
    "import PyPDF2\n",
    "from sklearn.feature_extraction.text import TfidfVectorizer\n",
    "from sklearn.metrics.pairwise import cosine_similarity\n",
    "\n",
    "# Function to extract text from PDF\n",
    "def extract_text_from_pdf(pdf_path):\n",
    "    text = \"\"\n",
    "    try:\n",
    "        with open(pdf_path, 'rb') as file:\n",
    "            reader = PyPDF2.PdfReader(file)\n",
    "            for page in reader.pages:\n",
    "                text += page.extract_text() or \"\"\n",
    "    except Exception as e:\n",
    "        print(f\"Error reading {pdf_path}: {e}\")\n",
    "    return text\n",
    "\n",
    "# Load all PDF resumes\n",
    "resume_folder = \"resumes\"\n",
    "resumes = []\n",
    "resume_names = []\n",
    "\n",
    "for filename in os.listdir(resume_folder):\n",
    "    if filename.endswith(\".pdf\"):\n",
    "        path = os.path.join(resume_folder, filename)\n",
    "        text = extract_text_from_pdf(path)\n",
    "        if text:\n",
    "            resumes.append(text)\n",
    "            resume_names.append(filename)\n",
    "\n",
    "# Input job description\n",
    "job_description = input(\"Enter the job description: \")\n",
    "\n",
    "# TF-IDF Vectorization\n",
    "documents = resumes + [job_description]\n",
    "vectorizer = TfidfVectorizer(stop_words='english')\n",
    "tfidf_matrix = vectorizer.fit_transform(documents)\n",
    "\n",
    "# Cosine Similarity\n",
    "job_vec = tfidf_matrix[-1]\n",
    "resume_vecs = tfidf_matrix[:-1]\n",
    "scores = cosine_similarity(job_vec, resume_vecs)[0]\n",
    "\n",
    "# Show Results\n",
    "sorted_scores = sorted(enumerate(scores), key=lambda x: x[1], reverse=True)\n",
    "\n",
    "print(\"\\nTop Matching Resumes:\\n\")\n",
    "for idx, score in sorted_scores:\n",
    "    print(f\"{resume_names[idx]} - Score: {score:.2f}\")\n"
   ]
  }
 ],
 "metadata": {
  "kernelspec": {
   "display_name": "Python 3",
   "language": "python",
   "name": "python3"
  },
  "language_info": {
   "codemirror_mode": {
    "name": "ipython",
    "version": 3
   },
   "file_extension": ".py",
   "mimetype": "text/x-python",
   "name": "python",
   "nbconvert_exporter": "python",
   "pygments_lexer": "ipython3",
   "version": "3.11.9"
  }
 },
 "nbformat": 4,
 "nbformat_minor": 5
}
