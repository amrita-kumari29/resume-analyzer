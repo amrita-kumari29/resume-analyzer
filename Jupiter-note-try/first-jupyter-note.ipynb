{
 "cells": [
  {
   "cell_type": "markdown",
   "id": "89d72002",
   "metadata": {},
   "source": [
    "My New Notebook\n"
   ]
  },
  {
   "cell_type": "markdown",
   "id": "db61a27b",
   "metadata": {},
   "source": [
    "My new Notebook"
   ]
  },
  {
   "cell_type": "code",
   "execution_count": 1,
   "id": "0b8d87be",
   "metadata": {},
   "outputs": [
    {
     "name": "stdout",
     "output_type": "stream",
     "text": [
      "Hello world\n"
     ]
    }
   ],
   "source": [
    "print(\"Hello world\")"
   ]
  },
  {
   "cell_type": "code",
   "execution_count": 2,
   "id": "f676f119",
   "metadata": {},
   "outputs": [
    {
     "name": "stdout",
     "output_type": "stream",
     "text": [
      "This is my first code\n"
     ]
    }
   ],
   "source": [
    "\n",
    "print(\"This is my first code\")"
   ]
  },
  {
   "cell_type": "code",
   "execution_count": 1,
   "id": "dcbd761c",
   "metadata": {},
   "outputs": [
    {
     "name": "stdout",
     "output_type": "stream",
     "text": [
      "THAT\n"
     ]
    }
   ],
   "source": [
    "print(\"THAT\")"
   ]
  },
  {
   "cell_type": "code",
   "execution_count": 1,
   "id": "87ab4c0c",
   "metadata": {},
   "outputs": [
    {
     "name": "stdout",
     "output_type": "stream",
     "text": [
      "Done project\n"
     ]
    }
   ],
   "source": [
    "print(\"Done project\")"
   ]
  }
 ],
 "metadata": {
  "kernelspec": {
   "display_name": "Python 3",
   "language": "python",
   "name": "python3"
  },
  "language_info": {
   "codemirror_mode": {
    "name": "ipython",
    "version": 3
   },
   "file_extension": ".py",
   "mimetype": "text/x-python",
   "name": "python",
   "nbconvert_exporter": "python",
   "pygments_lexer": "ipython3",
   "version": "3.11.9"
  }
 },
 "nbformat": 4,
 "nbformat_minor": 5
}
